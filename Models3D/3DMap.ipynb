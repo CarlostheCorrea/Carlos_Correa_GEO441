{
  "nbformat": 4,
  "nbformat_minor": 0,
  "metadata": {
    "colab": {
      "provenance": [],
      "authorship_tag": "ABX9TyPAgt5UztgueDyELJYLrVOY",
      "include_colab_link": true
    },
    "kernelspec": {
      "name": "python3",
      "display_name": "Python 3"
    },
    "language_info": {
      "name": "python"
    }
  },
  "cells": [
    {
      "cell_type": "markdown",
      "metadata": {
        "id": "view-in-github",
        "colab_type": "text"
      },
      "source": [
        "<a href=\"https://colab.research.google.com/github/CarlostheCorrea/gis-project-portfolio-geo441-541b/blob/main/spatial-analysis/3DMap.ipynb\" target=\"_parent\"><img src=\"https://colab.research.google.com/assets/colab-badge.svg\" alt=\"Open In Colab\"/></a>"
      ]
    },
    {
      "cell_type": "markdown",
      "source": [
        "## **Practice spatial analysis for vector data**"
      ],
      "metadata": {
        "id": "gAicYbi_Eodn"
      }
    },
    {
      "cell_type": "markdown",
      "source": [
        "🚀 Created by Carlos Correa\n",
        "\n",
        "[11/11/2024]"
      ],
      "metadata": {
        "id": "oqgwn8BMAHsA"
      }
    },
    {
      "cell_type": "markdown",
      "source": [
        "## **Get ready to start**\n",
        "\n",
        "- Click **`File/Save a copy in Drive`** to save a copy of this notebook to my own Google Drive"
      ],
      "metadata": {
        "id": "x_oSUQKBEpHh"
      }
    },
    {
      "cell_type": "markdown",
      "source": [
        "## **Overview**\n",
        "\n",
        "- Describe the key steps to create a 3D feature with multipatch texture in our Week 11 assignment\n",
        "\n",
        "  - Download and load the file, it is currently 2d\n",
        "  - Make it 3d by going to feature layer, then inder the extrusion tab, select type as max height, feild as hightft, and unit as feet.\n",
        "  - Make the shape a 3d feature: select tools and Layer 3d to Feature Class, grouping the layre to make it 3d.\n",
        "  - Under Edit, then select modify then mulitpatch texture to add pictures to the 3d feature"
      ],
      "metadata": {
        "id": "Ui2otQ8oErtp"
      }
    },
    {
      "cell_type": "markdown",
      "source": [
        "- Information on historical buildings\n",
        "  - Use a table to provide the following information\n",
        "  - Block number, lot number, and building number\n",
        "  - Height in feet\n",
        "  - Sanborn floor number (if any)\n"
      ],
      "metadata": {
        "id": "1hCzLwV8F_JA"
      }
    },
    {
      "cell_type": "markdown",
      "source": [
        "| Block number, lot number, and building number| Height in feet|Sanborn floor number (if any) |\n",
        "| ----------------------------- | --------------------------| --------------------------|\n",
        "| 171-1| 36.36  | 3 |\n",
        "| 171-2 | 36.64 | 3 |\n",
        "| 171-3 | 22.21 | 1 |\n"
      ],
      "metadata": {
        "id": "4riQf1B1y8Kw"
      }
    },
    {
      "cell_type": "markdown",
      "source": [
        "## A map showing the 3D features with texture picture\n"
      ],
      "metadata": {
        "id": "q-sGKncRGMK2"
      }
    },
    {
      "cell_type": "markdown",
      "source": [
        "```markdown\n",
        "https://drive.google.com/file/d/1WCcXCSIgjURakBn_wKK-I44QecSiPxWQ/view?usp=sharing\n",
        "\n",
        "```\n",
        "\n",
        "- After finishing the two steps below, a link can be created to correctly rendered in Google Colab\n",
        "  - Deleted **`/view?usp=sharing`** at the end of the link\n",
        "  - Replaced **`/file/d/`** with **`/uc?export=view&id=`**\n",
        "\n",
        "```markdown\n",
        "https://drive.google.com/uc?export=view&id=1WCcXCSIgjURakBn_wKK-I44QecSiPxWQ\n",
        "```\n",
        "\n",
        "- The map can be inserted in Google Colab following the syntax [from here](https://www.markdownguide.org/cheat-sheet/)\n",
        "\n",
        "```markdown\n",
        "Insert the map here using syntax:\n",
        "![model](https://drive.google.com/uc?export=view&id=1WCcXCSIgjURakBn_wKK-I44QecSiPxWQ)\n",
        "```\n",
        "\n",
        "![model](https://drive.google.com/uc?export=view&id=1WCcXCSIgjURakBn_wKK-I44QecSiPxWQ)"
      ],
      "metadata": {
        "id": "XYkLY0w_GcmK"
      }
    },
    {
      "cell_type": "markdown",
      "source": [
        "## **Save and share this notebook**\n",
        "\n",
        "- **Save the final version of this notebook to your GitHub repository of GEO 441/541B**\n",
        "  - Update your README document to link the copy of this notebook in the GitHub repository\n",
        "- Submit a link to your GitHub\n"
      ],
      "metadata": {
        "id": "b6xW6wrTGde5"
      }
    }
  ]
}